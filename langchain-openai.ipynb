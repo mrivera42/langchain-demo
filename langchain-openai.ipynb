{
 "cells": [
  {
   "cell_type": "markdown",
   "id": "235bb9af",
   "metadata": {},
   "source": [
    "# LangChain Workshop"
   ]
  },
  {
   "cell_type": "markdown",
   "id": "bddf9556",
   "metadata": {},
   "source": [
    "### What is LangChain?"
   ]
  },
  {
   "cell_type": "markdown",
   "id": "fa6b58ed",
   "metadata": {},
   "source": [
    "LangChain is a library that provides a lot of helpful components for working with LLMs. These include:\n",
    "* Model I/O\n",
    "* Memory \n",
    "* Data connection \n",
    "* Chains\n",
    "* Agents"
   ]
  },
  {
   "cell_type": "markdown",
   "id": "0b6bb611",
   "metadata": {},
   "source": [
    "### Model I/O"
   ]
  },
  {
   "cell_type": "markdown",
   "id": "41b940f6",
   "metadata": {},
   "source": [
    "#### Use LangChains interface to make calls to LLM providers"
   ]
  },
  {
   "cell_type": "code",
   "execution_count": null,
   "id": "8e8c7604",
   "metadata": {},
   "outputs": [],
   "source": [
    "from langchain.llms import OpenAI"
   ]
  },
  {
   "cell_type": "code",
   "execution_count": 4,
   "id": "e0b1d0ff",
   "metadata": {},
   "outputs": [
    {
     "data": {
      "text/plain": [
       "'\\n\\nTo get to the other side.'"
      ]
     },
     "execution_count": 4,
     "metadata": {},
     "output_type": "execute_result"
    }
   ],
   "source": [
    "llm = OpenAI()\n",
    "llm(\"Why did the chicken cross the road?\")"
   ]
  },
  {
   "cell_type": "markdown",
   "id": "e93dc5e8",
   "metadata": {},
   "source": [
    "#### Use prompt templates to format input "
   ]
  },
  {
   "cell_type": "code",
   "execution_count": 5,
   "id": "4f5ff1de",
   "metadata": {},
   "outputs": [],
   "source": [
    "from langchain import PromptTemplate"
   ]
  },
  {
   "cell_type": "code",
   "execution_count": 20,
   "id": "f9adf585",
   "metadata": {},
   "outputs": [
    {
     "name": "stdout",
     "output_type": "stream",
     "text": [
      "\n",
      "\n",
      "Dear Dad,\n",
      "\n",
      "I had such a great time in Las Vegas! I'm so glad we decided to take the trip. There was so much to see and do that I couldn't believe it. I visited all the tourist attractions, like the Stratosphere and the Fremont Street Experience.\n",
      "\n",
      "The shopping was great, too! I found some amazing bargains at the outlet malls. I even got some souvenirs to bring home. I'm sure you'll get a kick out of them.\n",
      "\n",
      "I also had the chance to try my luck at the casinos. I didn't win big, but I had a blast playing the slots. I think I'm getting the hang of it.\n",
      "\n",
      "I really appreciate you taking me to Las Vegas. I had so much fun and I learned a lot, too. I can't wait to come back and explore more of the city.\n",
      "\n",
      "Love,\n",
      "\n",
      "Max\n"
     ]
    }
   ],
   "source": [
    "template = \"\"\"\n",
    "Write a letter to {recipient} about {subject} from {sender}.\n",
    "\n",
    "\"\"\"\n",
    "\n",
    "prompt = PromptTemplate(\n",
    "    input_variables=[\"recipient\", \"subject\",\"sender\"],\n",
    "    template=template\n",
    ")\n",
    "\n",
    "letter_to_dad = prompt.format(recipient='Dad',subject='Las Vegas',sender='Max')\n",
    "\n",
    "print(llm(letter_to_dad))"
   ]
  },
  {
   "cell_type": "markdown",
   "id": "fa69b50e",
   "metadata": {},
   "source": [
    "#### Use Output Parsers to format LLM response into desired format"
   ]
  },
  {
   "cell_type": "code",
   "execution_count": 21,
   "id": "67f33a26",
   "metadata": {},
   "outputs": [
    {
     "name": "stdout",
     "output_type": "stream",
     "text": [
      "\n",
      "{\"sender\": \"Max\", \"location\": \"Las Vegas\", \"recipient\": \"Dad\"}\n"
     ]
    }
   ],
   "source": [
    "template = \"\"\"\n",
    "Given the following letter separated by backticks: \n",
    "\n",
    "```{letter}```\n",
    "\n",
    "Extract the following information: \n",
    "\n",
    "sender: Who is this letter from?\n",
    "location: What location is the letter about? \n",
    "recipient: Who is this letter addressed to?\n",
    "\n",
    "Format the output as JSON with the following keys:\n",
    "sender\n",
    "location\n",
    "recipient\n",
    "\"\"\"\n",
    "prompt = PromptTemplate.from_template(template)\n",
    "message = prompt.format(letter=letter_to_dad)\n",
    "response = llm(message)\n",
    "print(response)"
   ]
  },
  {
   "cell_type": "code",
   "execution_count": 22,
   "id": "88cfe27e",
   "metadata": {},
   "outputs": [
    {
     "data": {
      "text/plain": [
       "str"
      ]
     },
     "execution_count": 22,
     "metadata": {},
     "output_type": "execute_result"
    }
   ],
   "source": [
    "type(response)"
   ]
  },
  {
   "cell_type": "code",
   "execution_count": 27,
   "id": "f93fe35d",
   "metadata": {},
   "outputs": [
    {
     "ename": "ImportError",
     "evalue": "cannot import name 'output_parser' from 'langchain' (/Users/maxrivera/Desktop/langchain-demo/langchain-venv/lib/python3.9/site-packages/langchain/__init__.py)",
     "output_type": "error",
     "traceback": [
      "\u001b[0;31m---------------------------------------------------------------------------\u001b[0m",
      "\u001b[0;31mImportError\u001b[0m                               Traceback (most recent call last)",
      "Cell \u001b[0;32mIn[27], line 2\u001b[0m\n\u001b[1;32m      1\u001b[0m \u001b[38;5;28;01mfrom\u001b[39;00m \u001b[38;5;21;01mlangchain\u001b[39;00m\u001b[38;5;21;01m.\u001b[39;00m\u001b[38;5;21;01moutput_parsers\u001b[39;00m \u001b[38;5;28;01mimport\u001b[39;00m ResponseSchema, StructuredOutputParser\n\u001b[0;32m----> 2\u001b[0m \u001b[38;5;28;01mfrom\u001b[39;00m \u001b[38;5;21;01mlangchain\u001b[39;00m \u001b[38;5;28;01mimport\u001b[39;00m output_parser\n",
      "\u001b[0;31mImportError\u001b[0m: cannot import name 'output_parser' from 'langchain' (/Users/maxrivera/Desktop/langchain-demo/langchain-venv/lib/python3.9/site-packages/langchain/__init__.py)"
     ]
    }
   ],
   "source": [
    "from langchain.output_parsers import ResponseSchema, StructuredOutputParser\n",
    "from langchain import output_parser"
   ]
  },
  {
   "cell_type": "code",
   "execution_count": 25,
   "id": "d761206c",
   "metadata": {},
   "outputs": [],
   "source": [
    "sender_schema = ResponseSchema(name=\"sender\",description=\"Who is this letter from?\")\n",
    "location_schema = ResponseSchema(name=\"location\",description=\"What location is the letter about?\")\n",
    "recipien`t_schema = ResponseSchema(name=\"recipient\",description=\"Who is this letter addressed to?\")\n",
    "response_schemas=[sender_schema, location_schema, recipient_schema]"
   ]
  },
  {
   "cell_type": "code",
   "execution_count": 30,
   "id": "be46f458",
   "metadata": {},
   "outputs": [
    {
     "name": "stdout",
     "output_type": "stream",
     "text": [
      "The output should be a markdown code snippet formatted in the following schema, including the leading and trailing \"```json\" and \"```\":\n",
      "\n",
      "```json\n",
      "{\n",
      "\t\"sender\": string  // Who is this letter from?\n",
      "\t\"location\": string  // What location is the letter about?\n",
      "\t\"recipient\": string  // Who is this letter addressed to?\n",
      "}\n",
      "```\n"
     ]
    }
   ],
   "source": [
    "output_parser = StructuredOutputParser.from_response_schemas(response_schemas)\n",
    "format_instructions = output_parser.get_format_instructions()\n",
    "print(format_instructions)"
   ]
  },
  {
   "cell_type": "code",
   "execution_count": 31,
   "id": "c86e6e3b",
   "metadata": {},
   "outputs": [
    {
     "name": "stdout",
     "output_type": "stream",
     "text": [
      "\n",
      "```json\n",
      "{\n",
      "\t\"sender\": \"Max\", \n",
      "\t\"location\": \"Las Vegas\", \n",
      "\t\"recipient\": \"Dad\"\n",
      "}\n",
      "```\n"
     ]
    }
   ],
   "source": [
    "template = \"\"\"\n",
    "Given the following letter separated by backticks: \n",
    "\n",
    "```{letter}```\n",
    "\n",
    "Extract the following information: \n",
    "\n",
    "sender: Who is this letter from?\n",
    "location: What location is the letter about? \n",
    "recipient: Who is this letter addressed to?\n",
    "\n",
    "Format the output as JSON with the following keys:\n",
    "sender\n",
    "location\n",
    "recipient\n",
    "\n",
    "{format_instructions}\n",
    "\"\"\"\n",
    "prompt = PromptTemplate.from_template(template)\n",
    "message = prompt.format(letter=letter_to_dad, format_instructions=format_instructions)\n",
    "response = llm(message)\n",
    "print(response)"
   ]
  },
  {
   "cell_type": "code",
   "execution_count": 33,
   "id": "a489d2e4",
   "metadata": {},
   "outputs": [],
   "source": [
    "output_dict = output_parser.parse(response)"
   ]
  },
  {
   "cell_type": "code",
   "execution_count": 37,
   "id": "925a7634",
   "metadata": {},
   "outputs": [
    {
     "data": {
      "text/plain": [
       "{'sender': 'Max', 'location': 'Las Vegas', 'recipient': 'Dad'}"
      ]
     },
     "execution_count": 37,
     "metadata": {},
     "output_type": "execute_result"
    }
   ],
   "source": [
    "output_dict"
   ]
  },
  {
   "cell_type": "code",
   "execution_count": 36,
   "id": "4abe813f",
   "metadata": {},
   "outputs": [
    {
     "data": {
      "text/plain": [
       "dict"
      ]
     },
     "execution_count": 36,
     "metadata": {},
     "output_type": "execute_result"
    }
   ],
   "source": [
    "type(output_dict)"
   ]
  },
  {
   "cell_type": "markdown",
   "id": "4b385073",
   "metadata": {},
   "source": [
    "Load Documents"
   ]
  },
  {
   "cell_type": "code",
   "execution_count": 3,
   "id": "ad83b2f2",
   "metadata": {},
   "outputs": [],
   "source": [
    "from langchain.document_loaders import TextLoader"
   ]
  },
  {
   "cell_type": "code",
   "execution_count": 25,
   "id": "8d4f86a2",
   "metadata": {},
   "outputs": [],
   "source": [
    "loader = TextLoader(\"./birthday_ideas.txt\")\n",
    "doc = loader.load()\n",
    "# print(doc)\n",
    "# with open(\"./birthday_ideas.txt\") as f:\n",
    "#     birthday_doc = f.read()"
   ]
  },
  {
   "cell_type": "markdown",
   "id": "2b66294d",
   "metadata": {},
   "source": [
    "Split text by tokens"
   ]
  },
  {
   "cell_type": "code",
   "execution_count": 45,
   "id": "e00b2cb9",
   "metadata": {},
   "outputs": [],
   "source": [
    "from langchain.text_splitter import CharacterTextSplitter"
   ]
  },
  {
   "cell_type": "code",
   "execution_count": 61,
   "id": "8d89c431",
   "metadata": {},
   "outputs": [],
   "source": [
    "text_splitter = CharacterTextSplitter(\n",
    "chunk_size=5,\n",
    "chunk_overlap=0,\n",
    "length_function=len\n",
    ")"
   ]
  },
  {
   "cell_type": "code",
   "execution_count": 62,
   "id": "4502a696",
   "metadata": {},
   "outputs": [],
   "source": [
    "texts = text_splitter.split_documents(doc)"
   ]
  },
  {
   "cell_type": "code",
   "execution_count": 63,
   "id": "282d4f59",
   "metadata": {},
   "outputs": [
    {
     "data": {
      "text/plain": [
       "[Document(page_content=\"Birthdays in the family: \\n- Zarah's birthday is in February \\n- Max's birthday is in April \\n- James' birthday is in May \\n- Mom's birthday is in July \\n- Dad's birthday is in October \\n- Zyde's birthday is in December\", metadata={'source': './birthday_ideas.txt'})]"
      ]
     },
     "execution_count": 63,
     "metadata": {},
     "output_type": "execute_result"
    }
   ],
   "source": [
    "texts"
   ]
  },
  {
   "cell_type": "markdown",
   "id": "cf78d8ed",
   "metadata": {},
   "source": [
    "Embed chunks "
   ]
  },
  {
   "cell_type": "code",
   "execution_count": 22,
   "id": "8d68b26e",
   "metadata": {},
   "outputs": [],
   "source": [
    "from langchain.embeddings import OpenAIEmbeddings, HuggingFaceEmbeddings"
   ]
  },
  {
   "cell_type": "code",
   "execution_count": 23,
   "id": "4630a1a1",
   "metadata": {},
   "outputs": [],
   "source": [
    "embeddings = HuggingFaceEmbeddings()"
   ]
  },
  {
   "cell_type": "code",
   "execution_count": 65,
   "id": "5daab77e",
   "metadata": {},
   "outputs": [
    {
     "ename": "AttributeError",
     "evalue": "'Document' object has no attribute 'replace'",
     "output_type": "error",
     "traceback": [
      "\u001b[0;31m---------------------------------------------------------------------------\u001b[0m",
      "\u001b[0;31mAttributeError\u001b[0m                            Traceback (most recent call last)",
      "Cell \u001b[0;32mIn[65], line 1\u001b[0m\n\u001b[0;32m----> 1\u001b[0m embedding_result \u001b[38;5;241m=\u001b[39m \u001b[43membeddings\u001b[49m\u001b[38;5;241;43m.\u001b[39;49m\u001b[43membed_documents\u001b[49m\u001b[43m(\u001b[49m\u001b[43mtexts\u001b[49m\u001b[43m)\u001b[49m\n",
      "File \u001b[0;32m~/Desktop/langchain-demo/langchain-venv/lib/python3.9/site-packages/langchain/embeddings/huggingface.py:77\u001b[0m, in \u001b[0;36mHuggingFaceEmbeddings.embed_documents\u001b[0;34m(self, texts)\u001b[0m\n\u001b[1;32m     68\u001b[0m \u001b[38;5;28;01mdef\u001b[39;00m \u001b[38;5;21membed_documents\u001b[39m(\u001b[38;5;28mself\u001b[39m, texts: List[\u001b[38;5;28mstr\u001b[39m]) \u001b[38;5;241m-\u001b[39m\u001b[38;5;241m>\u001b[39m List[List[\u001b[38;5;28mfloat\u001b[39m]]:\n\u001b[1;32m     69\u001b[0m \u001b[38;5;250m    \u001b[39m\u001b[38;5;124;03m\"\"\"Compute doc embeddings using a HuggingFace transformer model.\u001b[39;00m\n\u001b[1;32m     70\u001b[0m \n\u001b[1;32m     71\u001b[0m \u001b[38;5;124;03m    Args:\u001b[39;00m\n\u001b[0;32m   (...)\u001b[0m\n\u001b[1;32m     75\u001b[0m \u001b[38;5;124;03m        List of embeddings, one for each text.\u001b[39;00m\n\u001b[1;32m     76\u001b[0m \u001b[38;5;124;03m    \"\"\"\u001b[39;00m\n\u001b[0;32m---> 77\u001b[0m     texts \u001b[38;5;241m=\u001b[39m \u001b[38;5;28;43mlist\u001b[39;49m\u001b[43m(\u001b[49m\u001b[38;5;28;43mmap\u001b[39;49m\u001b[43m(\u001b[49m\u001b[38;5;28;43;01mlambda\u001b[39;49;00m\u001b[43m \u001b[49m\u001b[43mx\u001b[49m\u001b[43m:\u001b[49m\u001b[43m \u001b[49m\u001b[43mx\u001b[49m\u001b[38;5;241;43m.\u001b[39;49m\u001b[43mreplace\u001b[49m\u001b[43m(\u001b[49m\u001b[38;5;124;43m\"\u001b[39;49m\u001b[38;5;130;43;01m\\n\u001b[39;49;00m\u001b[38;5;124;43m\"\u001b[39;49m\u001b[43m,\u001b[49m\u001b[43m \u001b[49m\u001b[38;5;124;43m\"\u001b[39;49m\u001b[38;5;124;43m \u001b[39;49m\u001b[38;5;124;43m\"\u001b[39;49m\u001b[43m)\u001b[49m\u001b[43m,\u001b[49m\u001b[43m \u001b[49m\u001b[43mtexts\u001b[49m\u001b[43m)\u001b[49m\u001b[43m)\u001b[49m\n\u001b[1;32m     78\u001b[0m     embeddings \u001b[38;5;241m=\u001b[39m \u001b[38;5;28mself\u001b[39m\u001b[38;5;241m.\u001b[39mclient\u001b[38;5;241m.\u001b[39mencode(texts, \u001b[38;5;241m*\u001b[39m\u001b[38;5;241m*\u001b[39m\u001b[38;5;28mself\u001b[39m\u001b[38;5;241m.\u001b[39mencode_kwargs)\n\u001b[1;32m     79\u001b[0m     \u001b[38;5;28;01mreturn\u001b[39;00m embeddings\u001b[38;5;241m.\u001b[39mtolist()\n",
      "File \u001b[0;32m~/Desktop/langchain-demo/langchain-venv/lib/python3.9/site-packages/langchain/embeddings/huggingface.py:77\u001b[0m, in \u001b[0;36mHuggingFaceEmbeddings.embed_documents.<locals>.<lambda>\u001b[0;34m(x)\u001b[0m\n\u001b[1;32m     68\u001b[0m \u001b[38;5;28;01mdef\u001b[39;00m \u001b[38;5;21membed_documents\u001b[39m(\u001b[38;5;28mself\u001b[39m, texts: List[\u001b[38;5;28mstr\u001b[39m]) \u001b[38;5;241m-\u001b[39m\u001b[38;5;241m>\u001b[39m List[List[\u001b[38;5;28mfloat\u001b[39m]]:\n\u001b[1;32m     69\u001b[0m \u001b[38;5;250m    \u001b[39m\u001b[38;5;124;03m\"\"\"Compute doc embeddings using a HuggingFace transformer model.\u001b[39;00m\n\u001b[1;32m     70\u001b[0m \n\u001b[1;32m     71\u001b[0m \u001b[38;5;124;03m    Args:\u001b[39;00m\n\u001b[0;32m   (...)\u001b[0m\n\u001b[1;32m     75\u001b[0m \u001b[38;5;124;03m        List of embeddings, one for each text.\u001b[39;00m\n\u001b[1;32m     76\u001b[0m \u001b[38;5;124;03m    \"\"\"\u001b[39;00m\n\u001b[0;32m---> 77\u001b[0m     texts \u001b[38;5;241m=\u001b[39m \u001b[38;5;28mlist\u001b[39m(\u001b[38;5;28mmap\u001b[39m(\u001b[38;5;28;01mlambda\u001b[39;00m x: \u001b[43mx\u001b[49m\u001b[38;5;241;43m.\u001b[39;49m\u001b[43mreplace\u001b[49m(\u001b[38;5;124m\"\u001b[39m\u001b[38;5;130;01m\\n\u001b[39;00m\u001b[38;5;124m\"\u001b[39m, \u001b[38;5;124m\"\u001b[39m\u001b[38;5;124m \u001b[39m\u001b[38;5;124m\"\u001b[39m), texts))\n\u001b[1;32m     78\u001b[0m     embeddings \u001b[38;5;241m=\u001b[39m \u001b[38;5;28mself\u001b[39m\u001b[38;5;241m.\u001b[39mclient\u001b[38;5;241m.\u001b[39mencode(texts, \u001b[38;5;241m*\u001b[39m\u001b[38;5;241m*\u001b[39m\u001b[38;5;28mself\u001b[39m\u001b[38;5;241m.\u001b[39mencode_kwargs)\n\u001b[1;32m     79\u001b[0m     \u001b[38;5;28;01mreturn\u001b[39;00m embeddings\u001b[38;5;241m.\u001b[39mtolist()\n",
      "\u001b[0;31mAttributeError\u001b[0m: 'Document' object has no attribute 'replace'"
     ]
    }
   ],
   "source": [
    "embedding_result = embeddings.embed_documents(texts)"
   ]
  },
  {
   "cell_type": "code",
   "execution_count": null,
   "id": "87d8079f",
   "metadata": {},
   "outputs": [],
   "source": []
  }
 ],
 "metadata": {
  "kernelspec": {
   "display_name": "Python 3 (ipykernel)",
   "language": "python",
   "name": "python3"
  },
  "language_info": {
   "codemirror_mode": {
    "name": "ipython",
    "version": 3
   },
   "file_extension": ".py",
   "mimetype": "text/x-python",
   "name": "python",
   "nbconvert_exporter": "python",
   "pygments_lexer": "ipython3",
   "version": "3.9.10"
  }
 },
 "nbformat": 4,
 "nbformat_minor": 5
}
